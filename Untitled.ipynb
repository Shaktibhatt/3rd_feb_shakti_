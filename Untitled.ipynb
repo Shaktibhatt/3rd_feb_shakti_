{
 "cells": [
  {
   "cell_type": "markdown",
   "id": "b709cece-51f0-4641-a3b7-25fcc1f348f6",
   "metadata": {},
   "source": [
    "Ques1\n",
    "\n",
    "def is used to create a function"
   ]
  },
  {
   "cell_type": "code",
   "execution_count": 4,
   "id": "e36e0bd1-a6eb-4023-8877-12841f6b4ee6",
   "metadata": {},
   "outputs": [],
   "source": [
    "def odd_num(n):\n",
    "    for i in range(1,n):\n",
    "        if i%2==0:\n",
    "            pass\n",
    "        else:\n",
    "            print (i)"
   ]
  },
  {
   "cell_type": "code",
   "execution_count": 5,
   "id": "ab432ce9-9d1a-4969-8668-3e26d9fe08a4",
   "metadata": {},
   "outputs": [
    {
     "name": "stdout",
     "output_type": "stream",
     "text": [
      "1\n",
      "3\n",
      "5\n",
      "7\n",
      "9\n",
      "11\n",
      "13\n",
      "15\n",
      "17\n",
      "19\n",
      "21\n",
      "23\n"
     ]
    }
   ],
   "source": [
    "odd_num(25)"
   ]
  },
  {
   "cell_type": "markdown",
   "id": "1199c1d9-082a-4256-987d-cbf1e5fb2a54",
   "metadata": {},
   "source": [
    "ques 2\n",
    "\n",
    "Arg with single * is used to pass a variable number of arguments to a function and returns a tupleit is a non key value pair argument under a function.\n",
    "kwarg with double * is used to pass a variable number of keyworded argument in a function."
   ]
  },
  {
   "cell_type": "code",
   "execution_count": 9,
   "id": "71316b96-00cc-4c86-aa8b-75b17cd57e64",
   "metadata": {},
   "outputs": [
    {
     "name": "stdout",
     "output_type": "stream",
     "text": [
      "Hello\n",
      "Welcome\n",
      "to\n",
      "pw skills\n"
     ]
    }
   ],
   "source": [
    "def myFun( *arg):\n",
    "    for i in arg:\n",
    "        print(i)\n",
    " \n",
    " \n",
    "myFun('Hello', 'Welcome', 'to', 'pw skills')"
   ]
  },
  {
   "cell_type": "markdown",
   "id": "2e1081d0-d21d-4ef7-a174-ea9a0946ac6a",
   "metadata": {},
   "source": [
    "Ques 3\n",
    "\n",
    "REpitetive execution of same code for various time is called iteration.\n",
    "\n",
    "iter() method is used to initialize the iterator object so that the instance of this object can be used for iterating."
   ]
  },
  {
   "cell_type": "code",
   "execution_count": 14,
   "id": "162f66f9-ca80-4701-9d94-c303eeb0a439",
   "metadata": {},
   "outputs": [
    {
     "name": "stdout",
     "output_type": "stream",
     "text": [
      "2\n",
      "4\n",
      "6\n",
      "8\n",
      "10\n"
     ]
    }
   ],
   "source": [
    "lst= [2, 4, 6, 8, 10, 12, 14, 16, 18, 20]\n",
    "l1 =iter(lst)\n",
    "for i in range (0,5):\n",
    "    print(next(l1))\n"
   ]
  },
  {
   "cell_type": "markdown",
   "id": "b0a997c2-785d-4b4a-a056-a1bebf6e7777",
   "metadata": {},
   "source": [
    "Ques 4\n",
    "\n",
    "Generator functions are used to create interable objects by using the yield keyword.\n"
   ]
  },
  {
   "cell_type": "code",
   "execution_count": 25,
   "id": "cfce8c82-1924-42da-9ccc-4d6833f6011e",
   "metadata": {},
   "outputs": [],
   "source": [
    "def sumation(n):\n",
    "    i=1\n",
    "    sum1=0\n",
    "    while i<= n:\n",
    "        sum1=sum1+i\n",
    "        yield sum1\n",
    "        i=i+1\n",
    "    yield sum1\n",
    "    "
   ]
  },
  {
   "cell_type": "code",
   "execution_count": 26,
   "id": "d5932273-a199-4e23-bf59-7835fbb59dbf",
   "metadata": {},
   "outputs": [],
   "source": [
    "x=sumation(8)"
   ]
  },
  {
   "cell_type": "code",
   "execution_count": 27,
   "id": "3eefdf56-550b-4754-8aed-6a49e021c9a6",
   "metadata": {},
   "outputs": [
    {
     "name": "stdout",
     "output_type": "stream",
     "text": [
      "1\n",
      "3\n",
      "6\n",
      "10\n",
      "15\n",
      "21\n",
      "28\n",
      "36\n",
      "36\n"
     ]
    }
   ],
   "source": [
    "for i in x:\n",
    "    print(i)"
   ]
  },
  {
   "cell_type": "markdown",
   "id": "8d03b576-0512-4575-876d-bd7e8aaf0249",
   "metadata": {},
   "source": [
    "\n",
    "\n",
    "\n",
    "Ques 5"
   ]
  },
  {
   "cell_type": "code",
   "execution_count": 63,
   "id": "5a96e946-09fb-4948-a21c-e3b901c59738",
   "metadata": {},
   "outputs": [],
   "source": [
    "def prime_num(n):\n",
    "    for i in range (1,n+1):\n",
    "        if i>1:\n",
    "            \n",
    "            for j in range(2,int(i/2+1)):\n",
    "                if i%j==0:\n",
    "                    break\n",
    "            else:\n",
    "                    print(i)"
   ]
  },
  {
   "cell_type": "code",
   "execution_count": 64,
   "id": "a457f13c-cb8c-46fa-869e-a7b4950956f1",
   "metadata": {},
   "outputs": [
    {
     "name": "stdout",
     "output_type": "stream",
     "text": [
      "2\n",
      "3\n",
      "5\n",
      "7\n",
      "11\n",
      "13\n",
      "17\n",
      "19\n"
     ]
    }
   ],
   "source": [
    "c= prime_num(20)"
   ]
  },
  {
   "cell_type": "markdown",
   "id": "c7532566-6080-4307-a4e2-21a3e2ba7e2c",
   "metadata": {},
   "source": []
  },
  {
   "cell_type": "code",
   "execution_count": null,
   "id": "fba1a4ce-05ae-444d-8ed3-52c6b564b962",
   "metadata": {},
   "outputs": [],
   "source": []
  },
  {
   "cell_type": "code",
   "execution_count": null,
   "id": "fb568bc7-4fa6-4dca-87a9-57cd38459c68",
   "metadata": {},
   "outputs": [],
   "source": []
  },
  {
   "cell_type": "code",
   "execution_count": null,
   "id": "d8c29dad-d467-4992-8be5-b2eb01acc1a9",
   "metadata": {},
   "outputs": [],
   "source": []
  },
  {
   "cell_type": "code",
   "execution_count": null,
   "id": "5781215f-c7f9-42a5-9525-31cda458074a",
   "metadata": {},
   "outputs": [],
   "source": []
  },
  {
   "cell_type": "code",
   "execution_count": null,
   "id": "0a3013cf-f766-4a65-8568-d21b79d86630",
   "metadata": {},
   "outputs": [],
   "source": []
  },
  {
   "cell_type": "code",
   "execution_count": null,
   "id": "a7d51e92-9734-48ac-ad60-ba2c1277a3ef",
   "metadata": {},
   "outputs": [],
   "source": []
  }
 ],
 "metadata": {
  "kernelspec": {
   "display_name": "Python 3 (ipykernel)",
   "language": "python",
   "name": "python3"
  },
  "language_info": {
   "codemirror_mode": {
    "name": "ipython",
    "version": 3
   },
   "file_extension": ".py",
   "mimetype": "text/x-python",
   "name": "python",
   "nbconvert_exporter": "python",
   "pygments_lexer": "ipython3",
   "version": "3.10.6"
  }
 },
 "nbformat": 4,
 "nbformat_minor": 5
}
